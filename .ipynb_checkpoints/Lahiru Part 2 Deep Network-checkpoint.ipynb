{
 "cells": [
  {
   "cell_type": "code",
   "execution_count": 102,
   "metadata": {},
   "outputs": [],
   "source": [
    "import numpy as np"
   ]
  },
  {
   "cell_type": "code",
   "execution_count": 103,
   "metadata": {},
   "outputs": [],
   "source": [
    "def loss(y, yhat):\n",
    "    yloss = -1 * (((1-y) * np.log(1-yhat)) + (y * np.log(yhat)))\n",
    "    return yloss   \n",
    "\n",
    "def cost(Y, Yhat):\n",
    "    Jcost = np.sum(loss(Y, Yhat))/Y.shape[0]\n",
    "    return Jcost"
   ]
  },
  {
   "cell_type": "code",
   "execution_count": 104,
   "metadata": {},
   "outputs": [],
   "source": [
    "def unit_activation(yhat):    \n",
    "    return yhat\n",
    "\n",
    "def sigmoid_activation(yhat):    \n",
    "    return 1/(1+np.exp(-yhat))\n",
    "\n",
    "def swish(x):\n",
    "    final = x * sigmoid_activation(x)\n",
    "    return final\n",
    "\n",
    "def TanH(x):\n",
    "    top = np.exp(x) - np.exp(-x)\n",
    "    bottom = np.exp(x) + np.exp(-x)\n",
    "    final = top/bottom\n",
    "    return final\n"
   ]
  },
  {
   "cell_type": "code",
   "execution_count": 105,
   "metadata": {},
   "outputs": [],
   "source": [
    "def derTanH(x):\n",
    "    v = 1 - ((TanH(x))**2)\n",
    "    return v\n",
    "\n",
    "def derSig(x):\n",
    "    v = sigmoid_activation(x)\n",
    "    return v * (1-v)\n",
    "\n",
    "def derSwish(x):\n",
    "    final = sigmoid_activation(x) + x * (sigmoid_activation(x)*(1-sigmoid_activation(x)))\n",
    "    return final\n"
   ]
  },
  {
   "cell_type": "code",
   "execution_count": 106,
   "metadata": {},
   "outputs": [],
   "source": [
    "def ReLU(x):\n",
    "    if x <= 0:\n",
    "        return 0\n",
    "    else:\n",
    "        return x\n",
    "ReLU = np.vectorize(ReLU)\n",
    "def ReLuDer(x):\n",
    "    if x <= 0:\n",
    "        return 0\n",
    "    else:\n",
    "        return 1\n",
    "ReLuDer = np.vectorize(ReLuDer)\n"
   ]
  },
  {
   "cell_type": "markdown",
   "metadata": {},
   "source": [
    "### Create Matrices for Train and Test Data"
   ]
  },
  {
   "cell_type": "code",
   "execution_count": 107,
   "metadata": {},
   "outputs": [
    {
     "name": "stdout",
     "output_type": "stream",
     "text": [
      "Number of Features:  2\n",
      "Number of Training Examples:  320\n",
      "Number of Test Examples:  80\n"
     ]
    }
   ],
   "source": [
    "X = np.genfromtxt('pattern_rand.csv',delimiter=',', skip_header=True)[0:320,0:2].T \n",
    "Y = np.genfromtxt('pattern_rand.csv',delimiter=',', skip_header=True)[0:320,2:3].T \n",
    "\n",
    "Xt = np.genfromtxt('pattern_rand.csv',delimiter=',', skip_header=True)[320:400,0:2].T \n",
    "Yt = np.genfromtxt('pattern_rand.csv',delimiter=',', skip_header=True)[320:400,2:3].T \n",
    "    \n",
    "n = X.shape[0]\n",
    "m = X.shape[1]\n",
    "t = Xt.shape[1]\n",
    "\n",
    "print(\"Number of Features: \", n)\n",
    "print(\"Number of Training Examples: \", m)\n",
    "print(\"Number of Test Examples: \", t)"
   ]
  },
  {
   "cell_type": "code",
   "execution_count": 108,
   "metadata": {},
   "outputs": [],
   "source": [
    "#Iterations\n",
    "h = 65000\n",
    "alpha = 0.24\n",
    "J = np.zeros((1,h))"
   ]
  },
  {
   "cell_type": "code",
   "execution_count": 109,
   "metadata": {},
   "outputs": [
    {
     "name": "stdout",
     "output_type": "stream",
     "text": [
      "Network Structure:\n",
      "IL0: Number of inputs to Layer 0: 2\n",
      "NL0: Number of neurons in Layer 0: 2\n",
      "IL1: Number of inputs to Layer 1: 2\n",
      "NL1: Number of neurons in Layer 1: 10\n",
      "IL2: Number of inputs to Layer 2: 10\n",
      "NL2: Number of neurons in Layer 2: 25\n",
      "IL3: Number of inputs to Layer 3: 25\n",
      "NL3: Number of neurons in Layer 3: 1\n"
     ]
    }
   ],
   "source": [
    "\n",
    "IL0 = 2\n",
    "NL0 = 2\n",
    "\n",
    "IL1 = NL0\n",
    "NL1 = 10\n",
    " \n",
    "IL2 = NL1\n",
    "NL2 = 25\n",
    "\n",
    "IL3 = NL2\n",
    "NL3 = 1\n",
    " \n",
    "\n",
    "print(\"Network Structure:\")\n",
    "print(\"IL0: Number of inputs to Layer 0:\", IL0)\n",
    "print(\"NL0: Number of neurons in Layer 0:\", NL0)\n",
    "print(\"IL1: Number of inputs to Layer 1:\", IL1)\n",
    "print(\"NL1: Number of neurons in Layer 1:\", NL1)\n",
    "print(\"IL2: Number of inputs to Layer 2:\", IL2)\n",
    "print(\"NL2: Number of neurons in Layer 2:\", NL2)\n",
    "print(\"IL3: Number of inputs to Layer 3:\", IL3)\n",
    "print(\"NL3: Number of neurons in Layer 3:\", NL3)"
   ]
  },
  {
   "cell_type": "code",
   "execution_count": 110,
   "metadata": {},
   "outputs": [],
   "source": [
    "B0 = np.zeros((NL0, 1))\n",
    "W0 = np.identity((NL0))\n",
    "\n",
    "np.random.seed(0)\n",
    "B1 = np.random.rand(NL1,1)\n",
    "W1 =  np.random.rand(NL1,IL1)\n",
    "\n",
    "B2 = np.random.rand(NL2,1)\n",
    "W2 = np.random.rand(NL2,IL2)\n",
    "\n",
    "B3 = np.random.rand(NL3,1)\n",
    "W3 = np.random.rand(NL3,IL3) \n",
    "\n"
   ]
  },
  {
   "cell_type": "code",
   "execution_count": 111,
   "metadata": {},
   "outputs": [
    {
     "name": "stdout",
     "output_type": "stream",
     "text": [
      "Jcost = 0.05136126923330233\n",
      "B3 = [[-0.3479711]]\n",
      "W3 =  [[ 5.27417522  0.68611385  7.68837916 -8.18488512  6.12187262 -5.04069559\n",
      "  -1.82917931 -3.60593123  3.07384263 -0.22342825 -0.43883883  8.55946344\n",
      "  11.03771257  2.60503238  0.84485986 -1.22619082 -1.91550593 -4.83092988\n",
      "  -0.66499168 -0.89430047  7.06753334  8.63096406 -1.75132395 -1.26173742\n",
      "  -1.26580913]]\n"
     ]
    }
   ],
   "source": [
    "X0 = X\n",
    "\n",
    "for g in range(h):\n",
    "    # Forward propagation \n",
    "    G0 = np.matmul(W0,X0) + B0\n",
    "    H0 = unit_activation(G0)\n",
    "    \n",
    "    #Layer 1\n",
    "    X1 = H0\n",
    "    G1 = np.matmul(W1,X1) + B1\n",
    "    H1 = TanH(G1)\n",
    "    \n",
    "    #Layer 2\n",
    "    X2 = H1\n",
    "    G2 = np.matmul(W2,X2) + B2\n",
    "    H2 = TanH(G2)\n",
    "    \n",
    "    #Layer 3\n",
    "    X3 = H2\n",
    "    G3 = np.matmul(W3,X3) + B3\n",
    "    H3 = sigmoid_activation(G3)\n",
    "    Yhat = H3\n",
    "\n",
    "    # Determine Cost\n",
    "    J[0,g] = cost(Y, Yhat)/m\n",
    "    \n",
    "    \n",
    "    # Layer 3 Backpropagation \n",
    "    dJdG3 = Yhat - Y\n",
    "    dJdB3 =  np.sum(dJdG3, axis = 1, keepdims = True)/m \n",
    "    dJdW3 = np.matmul(dJdG3, X3.T)/m\n",
    "    B3 = B3 - alpha * dJdB3\n",
    "    W3 = W3 - alpha * dJdW3\n",
    "    \n",
    "    #Layer 2 Backprop\n",
    "    dJdG2 = np.matmul(W3.T, dJdG3) * derTanH(G2)\n",
    "    dJdB2 =  np.sum(dJdG2, axis = 1, keepdims = True)/m \n",
    "    dJdW2 = np.matmul(dJdG2, X2.T)/m\n",
    "    B2 = B2 - alpha * dJdB2\n",
    "    W2 = W2 - alpha * dJdW2\n",
    "    \n",
    "    #Layer 1 Backward Prop \n",
    "    dJdG1 = np.matmul(W2.T, dJdG2) * derTanH(G1)\n",
    "    dJdB1 =  np.sum(dJdG1, axis = 1, keepdims = True)/m \n",
    "    dJdW1 = np.matmul(dJdG1, X1.T)/m\n",
    "    B1 = B1 - alpha * dJdB1\n",
    "    W1 = W1 - alpha * dJdW1\n",
    "print(\"Jcost = {}\".format(J[0,h-1]))\n",
    "print(\"B3 = {}\".format(B3))\n",
    "print(\"W3 = \", W3)"
   ]
  },
  {
   "cell_type": "code",
   "execution_count": 112,
   "metadata": {},
   "outputs": [
    {
     "data": {
      "image/png": "[encoded data removed]",
      "text/plain": [
       "<Figure size 432x288 with 1 Axes>"
      ]
     },
     "metadata": {
      "needs_background": "light"
     },
     "output_type": "display_data"
    }
   ],
   "source": [
    "import matplotlib.pyplot as plt\n",
    "%matplotlib inline\n",
    "plt.plot(J[0, 0:h-1])\n",
    "plt.show()"
   ]
  },
  {
   "cell_type": "code",
   "execution_count": 113,
   "metadata": {},
   "outputs": [],
   "source": [
    "G0 = np.matmul(W0,Xt) + B0\n",
    "H0 = unit_activation(G0)\n",
    "    \n",
    "X1 = H0\n",
    "G1 = np.matmul(W1,X1) + B1\n",
    "H1 = TanH(G1)\n",
    "    \n",
    "X2 = H1\n",
    "G2 = np.matmul(W2,X2) + B2\n",
    "H2 = TanH(G2)\n",
    "    \n",
    "X3 = H2\n",
    "G3 = np.matmul(W3,X3) + B3\n",
    "H3 = sigmoid_activation(G3)\n",
    "Ythat = H3\n",
    "Ythis = []\n",
    "for i in range(Xt.shape[1]):\n",
    "    if Ythat[0,i] >= 0.5:\n",
    "        Ythis.append(1.0)\n",
    "    else:\n",
    "        Ythis.append(0.0)\n",
    "Ythis = np.array(Ythis).T"
   ]
  },
  {
   "cell_type": "code",
   "execution_count": 114,
   "metadata": {},
   "outputs": [
    {
     "name": "stdout",
     "output_type": "stream",
     "text": [
      "Accuracy: 88.75%\n"
     ]
    }
   ],
   "source": [
    "total = Yt.shape[1]\n",
    "error = np.sum(abs(Yt - Ythis))\n",
    "print(\"Accuracy: {}%\".format((total-error)*100/total))"
   ]
  },
  {
   "cell_type": "code",
   "execution_count": 115,
   "metadata": {},
   "outputs": [
    {
     "data": {
      "text/plain": [
       "9.0"
      ]
     },
     "execution_count": 115,
     "metadata": {},
     "output_type": "execute_result"
    }
   ],
   "source": [
    "error"
   ]
  },
  {
   "cell_type": "code",
   "execution_count": null,
   "metadata": {},
   "outputs": [],
   "source": []
  },
  {
   "cell_type": "code",
   "execution_count": null,
   "metadata": {},
   "outputs": [],
   "source": []
  }
 ],
 "metadata": {
  "anaconda-cloud": {},
  "kernelspec": {
   "display_name": "Python 3",
   "language": "python",
   "name": "python3"
  },
  "language_info": {
   "codemirror_mode": {
    "name": "ipython",
    "version": 3
   },
   "file_extension": ".py",
   "mimetype": "text/x-python",
   "name": "python",
   "nbconvert_exporter": "python",
   "pygments_lexer": "ipython3",
   "version": "3.7.6"
  }
 },
 "nbformat": 4,
 "nbformat_minor": 2
}
