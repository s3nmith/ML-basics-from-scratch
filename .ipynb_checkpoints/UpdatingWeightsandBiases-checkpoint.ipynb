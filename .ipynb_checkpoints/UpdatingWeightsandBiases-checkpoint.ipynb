{
 "cells": [
  {
   "cell_type": "code",
   "execution_count": 18,
   "id": "1dff7b59",
   "metadata": {},
   "outputs": [],
   "source": [
    "#X has 4 features and 3 training data points\n",
    "X = np.array([[1,2,0.5],\n",
    "              [2,1,2],\n",
    "              [1,2,1],\n",
    "              [1,1,2]])\n",
    "\n",
    "#3 outputs for the 3 input data samples\n",
    "Y = np.array([[1, 0, 1]])\n",
    "\n",
    "np.random.seed(100)\n",
    "\n",
    "#Weight matrix has same number of columns as the number of features in data for input layer\n",
    "#weights set randomly with seed \n",
    "W = np.random.rand(4).reshape(1,4)\n",
    "b = 1\n",
    "\n",
    "# learning rate\n",
    "alpha = 0.01"
   ]
  },
  {
   "cell_type": "code",
   "execution_count": 19,
   "id": "de46afa6",
   "metadata": {},
   "outputs": [
    {
     "name": "stdout",
     "output_type": "stream",
     "text": [
      "Shape of X matrix (4, 3)\n",
      "Shape of Y matrix (1, 3)\n",
      "Shape of W matrix (1, 4)\n"
     ]
    }
   ],
   "source": [
    "print(\"Shape of X matrix\", X.shape)\n",
    "print(\"Shape of Y matrix\", Y.shape)\n",
    "print(\"Shape of W matrix\", W.shape)"
   ]
  },
  {
   "cell_type": "code",
   "execution_count": 20,
   "id": "3805c568",
   "metadata": {},
   "outputs": [],
   "source": [
    "#to update weights and bias using partialDerivatives\n",
    "#n is number of features and m is amount of training samples\n",
    "n = X.shape[0]\n",
    "m = X.shape[1]\n",
    "#these store the changes in W and b when cost is calculated\n",
    "dJdb = 0\n",
    "dJdW = np.zeros(n).reshape(1,n)"
   ]
  },
  {
   "cell_type": "code",
   "execution_count": 21,
   "id": "3cee2f7e",
   "metadata": {},
   "outputs": [
    {
     "name": "stdout",
     "output_type": "stream",
     "text": [
      "3.369437435047595\n",
      "4.058990582493897\n",
      "3.9425110964720154\n"
     ]
    },
    {
     "data": {
      "text/plain": [
       "array([[4.73887487, 8.11798116, 5.88502219]])"
      ]
     },
     "execution_count": 21,
     "metadata": {},
     "output_type": "execute_result"
    }
   ],
   "source": [
    "#calculating the difference between actual output and predicted \n",
    "C = np.zeros(m).reshape(1,m)\n",
    "for i in range(m):\n",
    "    for j in range(n):\n",
    "        C[0][i] += W[0][j] * X[j][i]\n",
    "    C[0][i] += b\n",
    "    print(C[0][i])\n",
    "    C[0][i] = -2 * ( Y[0][i] - C[0][i] )\n",
    "C"
   ]
  },
  {
   "cell_type": "code",
   "execution_count": 22,
   "id": "b592032e",
   "metadata": {},
   "outputs": [
    {
     "name": "stdout",
     "output_type": "stream",
     "text": [
      "b:  0.8125812177197298\n",
      "W:  [[-0.47834697 -0.58731551 -0.53719719 -0.49253801]]\n"
     ]
    }
   ],
   "source": [
    "#updating partial derivatives\n",
    "#Calculate the gradient of the error function with respect to each weight by taking the derivative.\n",
    "for i in range(m):\n",
    "    for j in range(n):\n",
    "        dJdW[0][j] += X[j][i] * C[0][i]\n",
    "for i in range(m):\n",
    "        dJdb += C[0][i]\n",
    "        \n",
    "for i in range(n):\n",
    "        W[0][i] = -alpha * dJdW[0][i] \n",
    "        \n",
    "#updating b and W\n",
    "b -= alpha * dJdb\n",
    "W -= alpha * dJdW\n",
    "print(\"b: \", b)\n",
    "print(\"W: \", W)"
   ]
  },
  {
   "cell_type": "code",
   "execution_count": 23,
   "id": "481f6bed",
   "metadata": {},
   "outputs": [],
   "source": [
    "#----Implementation with Numpy-----#"
   ]
  },
  {
   "cell_type": "code",
   "execution_count": 24,
   "id": "f19aed25",
   "metadata": {},
   "outputs": [
    {
     "data": {
      "text/plain": [
       "array([[2.87013196, 2.2983606 , 3.12349648]])"
      ]
     },
     "execution_count": 24,
     "metadata": {},
     "output_type": "execute_result"
    }
   ],
   "source": [
    "import numpy\n",
    "C1 = (Y- (np.dot(W,X) +b))\n",
    "C1"
   ]
  },
  {
   "cell_type": "code",
   "execution_count": null,
   "id": "8722e769",
   "metadata": {},
   "outputs": [],
   "source": []
  }
 ],
 "metadata": {
  "kernelspec": {
   "display_name": "Python 3 (ipykernel)",
   "language": "python",
   "name": "python3"
  },
  "language_info": {
   "codemirror_mode": {
    "name": "ipython",
    "version": 3
   },
   "file_extension": ".py",
   "mimetype": "text/x-python",
   "name": "python",
   "nbconvert_exporter": "python",
   "pygments_lexer": "ipython3",
   "version": "3.9.12"
  }
 },
 "nbformat": 4,
 "nbformat_minor": 5
}
