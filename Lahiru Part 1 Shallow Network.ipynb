{
 "cells": [
  {
   "cell_type": "code",
   "execution_count": 96,
   "metadata": {},
   "outputs": [],
   "source": [
    "import numpy as np"
   ]
  },
  {
   "cell_type": "markdown",
   "metadata": {},
   "source": [
    "### Loss and Cost Functions"
   ]
  },
  {
   "cell_type": "code",
   "execution_count": 97,
   "metadata": {},
   "outputs": [],
   "source": [
    "def loss(y, yhat):\n",
    "    yloss = -1 * (((1-y) * np.log(1-yhat)) + (y * np.log(yhat)))\n",
    "    return yloss   \n",
    "\n",
    "def cost(Y, Yhat):\n",
    "    Jcost = np.sum(loss(Y, Yhat))/Y.shape[0]\n",
    "    return Jcost"
   ]
  },
  {
   "cell_type": "markdown",
   "metadata": {},
   "source": [
    "### Activation Functions"
   ]
  },
  {
   "cell_type": "code",
   "execution_count": 98,
   "metadata": {},
   "outputs": [],
   "source": [
    "def unit_activation(yhat):    \n",
    "    return yhat\n",
    "unit_activation = np.vectorize(unit_activation)\n",
    "\n",
    "def sigmoid_activation(yhat):    \n",
    "    return 1/(1+np.exp(-yhat))\n",
    "sigmoid_activation = np.vectorize(sigmoid_activation)\n",
    "\n",
    "def relu_activation(yhat):    \n",
    "    return yhat * (yhat > 0)\n",
    "relu_activation = np.vectorize(relu_activation)\n",
    "\n",
    "def TanH(x):\n",
    "    top = np.exp(x) - np.exp(-x)\n",
    "    bottom = np.exp(x) + np.exp(-x)\n",
    "    final = top/bottom\n",
    "    return final\n",
    "TanH = np.vectorize(TanH)"
   ]
  },
  {
   "cell_type": "code",
   "execution_count": 99,
   "metadata": {},
   "outputs": [],
   "source": [
    "def derTanH(x):\n",
    "    v = 1 - ((TanH(x))**2)\n",
    "    return v\n",
    "derTanH = np.vectorize(derTanH)"
   ]
  },
  {
   "cell_type": "markdown",
   "metadata": {},
   "source": [
    "### Create Matrices for Train and Test Data"
   ]
  },
  {
   "cell_type": "code",
   "execution_count": 100,
   "metadata": {},
   "outputs": [
    {
     "name": "stdout",
     "output_type": "stream",
     "text": [
      "Number of Features:  2\n",
      "Number of Training Examples:  320\n",
      "Number of Test Examples:  80\n"
     ]
    }
   ],
   "source": [
    "X = np.genfromtxt('pattern_rand.csv',delimiter=',', skip_header=True)[0:320,0:2].T \n",
    "Y = np.genfromtxt('pattern_rand.csv',delimiter=',', skip_header=True)[0:320,2:3].T \n",
    "\n",
    "Xt = np.genfromtxt('pattern_rand.csv',delimiter=',', skip_header=True)[320:400,0:2].T \n",
    "Yt = np.genfromtxt('pattern_rand.csv',delimiter=',', skip_header=True)[320:400,2:3].T \n",
    "    \n",
    "n = X.shape[0]\n",
    "m = X.shape[1]\n",
    "t = Xt.shape[1]\n",
    "\n",
    "print(\"Number of Features: \", n)\n",
    "print(\"Number of Training Examples: \", m)\n",
    "print(\"Number of Test Examples: \", t)"
   ]
  },
  {
   "cell_type": "markdown",
   "metadata": {},
   "source": [
    "### Initialization and Running Forward Propagation "
   ]
  },
  {
   "cell_type": "code",
   "execution_count": 101,
   "metadata": {},
   "outputs": [],
   "source": [
    "#Iterations\n",
    "h = 1000\n",
    "alpha = 0.3\n",
    "# Initialization of J and Yhat\n",
    "J = np.zeros((1,h))"
   ]
  },
  {
   "cell_type": "code",
   "execution_count": 102,
   "metadata": {},
   "outputs": [
    {
     "name": "stdout",
     "output_type": "stream",
     "text": [
      "Network Structure:\n",
      "IL0: Number of inputs to Layer 0: 2\n",
      "NL0: Number of neurons in Layer 0: 2\n",
      "IL1: Number of inputs to Layer 1: 2\n",
      "NL1: Number of neurons in Layer 1: 12\n",
      "IL2: Number of inputs to Layer 2: 12\n",
      "NL2: Number of neurons in Layer 2: 1\n"
     ]
    }
   ],
   "source": [
    "# IL0: Number of inputs to Layer 0\n",
    "# NL0: Number of neurons in Layer 0\n",
    "IL0 = n\n",
    "NL0 = n\n",
    "# The first layer is input layer so both number of inputs \n",
    "# and number of neurons are equal to number of features\n",
    "\n",
    "# IL1: Number of inputs to Layer 1\n",
    "# NL1: Number of neurons in Layer 1\n",
    "IL1 = NL0\n",
    "NL1 = 12\n",
    "# As there are n neurons in the previous layer, the number\n",
    "# of inputs to Layer 1 is equal to n. Number of neurons\n",
    "# may be any. \n",
    "\n",
    "# IL2: Number of inputs to Layer 2\n",
    "# NL2: Number of neurons in Layer 2\n",
    "IL2 = NL1\n",
    "NL2 = 1\n",
    "# Number of inputs in Layer 2 equals to number of neurons in\n",
    "# the previous layer (one input coming from each neuron). As \n",
    "# this is binary classification with a single output, the number \n",
    "# of neurons equals 1. \n",
    "\n",
    "print(\"Network Structure:\")\n",
    "print(\"IL0: Number of inputs to Layer 0:\", IL0)\n",
    "print(\"NL0: Number of neurons in Layer 0:\", NL0)\n",
    "print(\"IL1: Number of inputs to Layer 1:\", IL1)\n",
    "print(\"NL1: Number of neurons in Layer 1:\", NL1)\n",
    "print(\"IL2: Number of inputs to Layer 2:\", IL2)\n",
    "print(\"NL2: Number of neurons in Layer 2:\", NL2)\n"
   ]
  },
  {
   "cell_type": "code",
   "execution_count": 103,
   "metadata": {},
   "outputs": [
    {
     "name": "stdout",
     "output_type": "stream",
     "text": [
      "Weights and Biases:\n",
      "Layer 0: \n",
      "B0\n",
      " [[0.]\n",
      " [0.]]\n",
      "W0\n",
      " [[1. 0.]\n",
      " [0. 1.]]\n",
      "Layer 1: \n",
      "B1\n",
      " [[0.5488135 ]\n",
      " [0.71518937]\n",
      " [0.60276338]\n",
      " [0.54488318]\n",
      " [0.4236548 ]\n",
      " [0.64589411]\n",
      " [0.43758721]\n",
      " [0.891773  ]\n",
      " [0.96366276]\n",
      " [0.38344152]\n",
      " [0.79172504]\n",
      " [0.52889492]]\n",
      "W1\n",
      " [[0.56804456 0.92559664]\n",
      " [0.07103606 0.0871293 ]\n",
      " [0.0202184  0.83261985]\n",
      " [0.77815675 0.87001215]\n",
      " [0.97861834 0.79915856]\n",
      " [0.46147936 0.78052918]\n",
      " [0.11827443 0.63992102]\n",
      " [0.14335329 0.94466892]\n",
      " [0.52184832 0.41466194]\n",
      " [0.26455561 0.77423369]\n",
      " [0.45615033 0.56843395]\n",
      " [0.0187898  0.6176355 ]]\n",
      "Layer 2: \n",
      "B2\n",
      " [[0.61209572]]\n",
      "W2\n",
      " [[0.616934   0.94374808 0.6818203  0.3595079  0.43703195 0.6976312\n",
      "  0.06022547 0.66676672 0.67063787 0.21038256 0.1289263  0.31542835]]\n"
     ]
    }
   ],
   "source": [
    "# Layer 0 is input layer so W0 is identity matrix while B0 is zero matrix.\n",
    "# Layer 0 in a way simply reproduces its inputs at the output\n",
    "np.random.seed(0)\n",
    "B0 = np.zeros((NL0, 1))\n",
    "W0 = np.identity((NL0))\n",
    "\n",
    "# Layer 1 is a passthrough layer. As number of inputs to the layer equals\n",
    "# 2 and number of neurons are 4, the size of W1 will be 4 x2. To make this\n",
    "# layer a passthrough layer, the 4 x 2 W1 matrix needs to consist of a \n",
    "# a 2 x 2 identity matrix and a 2 x 2 zero matrix. Also B1 is a zero matrix\n",
    "B1 = np.random.rand(NL1,1)\n",
    "W1 =np.random.rand(NL1,IL1)\n",
    "\n",
    "\n",
    "# Layer 2 is a simple Logistic Regression Unit. W2 and B2 are intialized as ones.\n",
    "B2 = np.random.rand(NL2,1)\n",
    "W2 = np.random.rand(NL2,IL2)\n",
    "\n",
    "print(\"Weights and Biases:\")\n",
    "print(\"Layer 0: \")\n",
    "print(\"B0\\n\", B0)\n",
    "print(\"W0\\n\", W0)\n",
    "print(\"Layer 1: \")\n",
    "print(\"B1\\n\", B1)\n",
    "print(\"W1\\n\", W1)\n",
    "print(\"Layer 2: \")\n",
    "print(\"B2\\n\", B2)\n",
    "print(\"W2\\n\", W2)"
   ]
  },
  {
   "cell_type": "code",
   "execution_count": 104,
   "metadata": {},
   "outputs": [
    {
     "name": "stdout",
     "output_type": "stream",
     "text": [
      "Jcost = 0.30196115946862073\n",
      "B2 = [[0.07931825]]\n",
      "W2 =  [[ 1.26248658  3.69278534  2.20661077 -1.48460239 -1.45698165  1.38810279\n",
      "  -0.53930412  1.79822875  0.10141899 -0.51314716 -0.96334129 -0.4425899 ]]\n"
     ]
    }
   ],
   "source": [
    "# We now runs a loop for performing forward- and backpropagation\n",
    "for g in range(h):\n",
    "    # Forward propagation \n",
    "    X0 = X\n",
    "    G0 = np.matmul(W0,X0) + B0\n",
    "    H0 = unit_activation(G0)\n",
    "    \n",
    "    #Layer 1\n",
    "    X1 = H0\n",
    "    G1 = np.matmul(W1,X1) + B1\n",
    "    H1 = TanH(G1)\n",
    "    \n",
    "    #Layer 3\n",
    "    X2 = H1\n",
    "    G2 = np.matmul(W2,X2) + B2\n",
    "    H2 = sigmoid_activation(G2)\n",
    "    Yhat = H2\n",
    "\n",
    "    # Determine Cost\n",
    "    J[0,g] = cost(Y, Yhat)/m\n",
    "    \n",
    "    # Layer 2 Backpropagation \n",
    "    dJdG2 = Yhat - Y\n",
    "    dJdB2 =  np.sum(dJdG2, axis = 1, keepdims = True)/m \n",
    "    dJdW2 = np.matmul(dJdG2, X2.T)/m\n",
    "    B2 = B2 - alpha * dJdB2\n",
    "    W2 = W2 - alpha * dJdW2\n",
    "    \n",
    "    #Layer 1 Backward Prop \n",
    "    dJdG1 = np.matmul(W2.T, dJdG2) * derTanH(G1)\n",
    "    dJdB1 =  np.sum(dJdG1, axis = 1, keepdims = True)/m \n",
    "    dJdW1 = np.matmul(dJdG1, X1.T)/m\n",
    "    B1 = B1 - alpha * dJdB1\n",
    "    W1 = W1 - alpha * dJdW1\n",
    "\n",
    "Yhat = np.dot(W1,X1) + B1\n",
    "Yhat = TanH(Yhat)\n",
    "Yhat = np.dot(W2, X2) + B2\n",
    "Yhat = sigmoid_activation(Yhat)\n",
    "J[0][g] = np.sum(loss(Y, Yhat))/m\n",
    "    \n",
    "print(\"Jcost = {}\".format(J[0,h-1]))\n",
    "print(\"B2 = {}\".format(B2))\n",
    "print(\"W2 = \", W2)"
   ]
  },
  {
   "cell_type": "markdown",
   "metadata": {},
   "source": [
    "Jcost = 0.6636268397430334  \n",
    "B2 = [[-0.00078031]]  \n",
    "W2 =  [[ 0.08056205 -0.24098459  1.          1.        ]]"
   ]
  },
  {
   "cell_type": "markdown",
   "metadata": {},
   "source": [
    "### Plotting Cost Function"
   ]
  },
  {
   "cell_type": "code",
   "execution_count": 105,
   "metadata": {},
   "outputs": [
    {
     "data": {
      "image/png": "[encoded data removed]",
      "text/plain": [
       "<Figure size 432x288 with 1 Axes>"
      ]
     },
     "metadata": {
      "needs_background": "light"
     },
     "output_type": "display_data"
    }
   ],
   "source": [
    "import matplotlib.pyplot as plt\n",
    "%matplotlib inline\n",
    "plt.plot(J[0, 0:h-1])\n",
    "plt.show()"
   ]
  },
  {
   "cell_type": "code",
   "execution_count": 106,
   "metadata": {},
   "outputs": [],
   "source": [
    "#Making Predictions\n",
    "\n",
    "X0 = Xt\n",
    "G0 = np.matmul(W0,X0) + B0\n",
    "H0 = unit_activation(G0)\n",
    "    \n",
    "X1 = H0\n",
    "G1 = np.matmul(W1,X1) + B1\n",
    "H1 = TanH(G1)\n",
    "Yhat1 = H1\n",
    "    \n",
    "    \n",
    "#Layer 2\n",
    "X2 = H1\n",
    "G2 = np.matmul(W2,X2) + B2\n",
    "Ythat = sigmoid_activation(G2)\n",
    "Ythis = []\n",
    "\n",
    "for i in range(Xt.shape[1]):\n",
    "    if Ythat[0,i] >= 0.5:\n",
    "        Ythis.append(1.0)\n",
    "    else:\n",
    "        Ythis.append(0.0)\n",
    "Ythis = np.array(Ythis).T"
   ]
  },
  {
   "cell_type": "code",
   "execution_count": 107,
   "metadata": {},
   "outputs": [
    {
     "name": "stdout",
     "output_type": "stream",
     "text": [
      "Accuracy: 87.5%\n"
     ]
    }
   ],
   "source": [
    "total = Yt.shape[1]\n",
    "error = np.sum(abs(Yt - Ythis))\n",
    "print(\"Accuracy: {}%\".format((total-error)*100/total))"
   ]
  },
  {
   "cell_type": "code",
   "execution_count": null,
   "metadata": {},
   "outputs": [],
   "source": []
  },
  {
   "cell_type": "code",
   "execution_count": null,
   "metadata": {},
   "outputs": [],
   "source": []
  }
 ],
 "metadata": {
  "anaconda-cloud": {},
  "kernelspec": {
   "display_name": "Python 3 (ipykernel)",
   "language": "python",
   "name": "python3"
  },
  "language_info": {
   "codemirror_mode": {
    "name": "ipython",
    "version": 3
   },
   "file_extension": ".py",
   "mimetype": "text/x-python",
   "name": "python",
   "nbconvert_exporter": "python",
   "pygments_lexer": "ipython3",
   "version": "3.9.12"
  }
 },
 "nbformat": 4,
 "nbformat_minor": 2
}
